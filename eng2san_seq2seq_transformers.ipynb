{
  "cells": [
    {
      "cell_type": "code",
      "execution_count": null,
      "metadata": {
        "colab": {
          "base_uri": "https://localhost:8080/"
        },
        "id": "U5yyS9Vs1rzm",
        "outputId": "82fd234a-6a12-4998-a60d-2aa6bb11239e"
      },
      "outputs": [],
      "source": [
        "!git clone https://github.com/huggingface/transformers.git\n",
        "!pip install -e /content/transformers\n",
        "!pip install wandb\n",
        "!pip install jsonlines\n",
        "!pip install -r \"/content/transformers/examples/pytorch/translation/requirements.txt\"\n",
        "!pip install sacrebleu==1.5.1"
      ]
    },
    {
      "cell_type": "code",
      "execution_count": null,
      "metadata": {
        "colab": {
          "base_uri": "https://localhost:8080/"
        },
        "id": "q_S8I4m-r2xL",
        "outputId": "22920187-3c3c-42d5-f7a5-bd29951e88b5"
      },
      "outputs": [],
      "source": [
        "from google.colab import drive\n",
        "drive.mount('/content/gdrive')"
      ]
    },
    {
      "cell_type": "code",
      "execution_count": null,
      "metadata": {
        "colab": {
          "base_uri": "https://localhost:8080/"
        },
        "id": "fUUcb3jleiPK",
        "outputId": "729f59b3-1e4d-4841-fff7-f9276cfe72c3"
      },
      "outputs": [],
      "source": [
        "!wandb login"
      ]
    },
    {
      "cell_type": "markdown",
      "metadata": {
        "id": "2xoHhz4ISQaH"
      },
      "source": [
        "Restart runtime"
      ]
    },
    {
      "cell_type": "code",
      "execution_count": null,
      "metadata": {
        "id": "RtYXcL-NW3Ha"
      },
      "outputs": [],
      "source": [
        "import gc\n",
        "import logging\n",
        "import torch\n",
        "import jsonlines\n",
        "import numpy as np\n",
        "import pandas as pd"
      ]
    },
    {
      "cell_type": "markdown",
      "metadata": {
        "id": "-Wsi6cHnAsOK"
      },
      "source": [
        "## Data collection and separation"
      ]
    },
    {
      "cell_type": "code",
      "execution_count": null,
      "metadata": {
        "colab": {
          "base_uri": "https://localhost:8080/"
        },
        "id": "HGCfHv-YmQBT",
        "outputId": "12096597-d030-434c-c9c3-ec68f2571e2a"
      },
      "outputs": [],
      "source": [
        "!git clone https://github.com/rahular/itihasa"
      ]
    },
    {
      "cell_type": "code",
      "execution_count": null,
      "metadata": {
        "id": "74ykWLSBmV9x"
      },
      "outputs": [],
      "source": [
        "!mkdir data\n",
        "!cp \"/content/itihasa/data/train.en\" \"/content/data/train.source\"\n",
        "!cp \"/content/itihasa/data/train.sn\" \"/content/data/train.target\"\n",
        "\n",
        "!cp \"/content/itihasa/data/dev.en\" \"/content/data/val.source\"\n",
        "!cp \"/content/itihasa/data/dev.sn\" \"/content/data/val.target\"\n",
        "\n",
        "!cp \"/content/itihasa/data/test.en\" \"/content/data/test.source\"\n",
        "!cp \"/content/itihasa/data/test.sn\" \"/content/data/test.target\""
      ]
    },
    {
      "cell_type": "code",
      "execution_count": null,
      "metadata": {
        "id": "WBiFZ7B_pgT7"
      },
      "outputs": [],
      "source": [
        "tr_src = open(\"/content/data/train.source\").readlines()\n",
        "tr_tgt = open(\"/content/data/train.target\").readlines()\n",
        "\n",
        "eval_src = open(\"/content/data/val.source\").readlines()\n",
        "eval_tgt = open(\"/content/data/val.target\").readlines()\n",
        "\n",
        "test_src = open(\"/content/data/test.source\").readlines()\n",
        "test_tgt = open(\"/content/data/test.target\").readlines()"
      ]
    },
    {
      "cell_type": "code",
      "execution_count": null,
      "metadata": {
        "colab": {
          "base_uri": "https://localhost:8080/"
        },
        "id": "NhXw_oG7r1ly",
        "outputId": "7667a15a-8f18-4b8e-b1fe-430c638a9918"
      },
      "outputs": [],
      "source": [
        "len(tr_src), len(tr_tgt)"
      ]
    },
    {
      "cell_type": "code",
      "execution_count": null,
      "metadata": {
        "id": "RBsm8k6OtCtn"
      },
      "outputs": [],
      "source": [
        "items = []\n",
        "for src, tgt in zip(tr_src, tr_tgt):\n",
        "    items.append({\"translation\":{\n",
        "        \"en\":src,\n",
        "        \"sa\":tgt\n",
        "    }})\n",
        "\n",
        "with jsonlines.open('/content/data/train_json.json', 'w') as writer:\n",
        "    writer.write_all(items)\n",
        "\n",
        "items = []\n",
        "for src, tgt in zip(eval_src, eval_tgt):\n",
        "    items.append({\"translation\":{\n",
        "        \"en\":src,\n",
        "        \"sa\":tgt\n",
        "    }})\n",
        "\n",
        "with jsonlines.open('/content/data/eval_json.json', 'w') as writer:\n",
        "    writer.write_all(items)\n",
        "\n",
        "items = []\n",
        "for src, tgt in zip(test_src, test_tgt):\n",
        "    items.append({\"translation\":{\n",
        "        \"en\":src,\n",
        "        \"sa\":tgt\n",
        "    }})\n",
        "\n",
        "with jsonlines.open('/content/data/test_json.json', 'w') as writer:\n",
        "    writer.write_all(items)\n",
        "\n"
      ]
    },
    {
      "cell_type": "markdown",
      "metadata": {
        "id": "gLcsZjtkSeJa"
      },
      "source": [
        "data needs to be in the files\n",
        "\n",
        "- train.source\n",
        "- train.target\n",
        "- val.source\n",
        "- val.target\n",
        "- test.source\n",
        "- test.target"
      ]
    },
    {
      "cell_type": "markdown",
      "metadata": {
        "id": "QVRKazCsTH6s"
      },
      "source": [
        "Initial checkpoints from a pretrained hosted model.\n",
        "\n",
        "## English to Sanskrit:\n",
        "\n",
        "The idea is to **leverage the similarity** between Hindi and Sanskrit in the decoder and to **fine-tune the model** end-to-end using Sanskrit shloks.\n",
        "\n",
        "We can do this **without needing to train a tokenizer** due to Hindi tokenizer being able to tokenize Devnagari leepi of Sanskrit."
      ]
    },
    {
      "cell_type": "code",
      "execution_count": null,
      "metadata": {
        "colab": {
          "base_uri": "https://localhost:8080/"
        },
        "id": "CT821gqWwx9J",
        "outputId": "03b8d047-8c0d-4ee4-951d-ff01af28d17d"
      },
      "outputs": [],
      "source": [
        "gc.collect()"
      ]
    },
    {
      "cell_type": "code",
      "execution_count": null,
      "metadata": {
        "colab": {
          "base_uri": "https://localhost:8080/"
        },
        "id": "TtZAw8K_-_lI",
        "outputId": "b936d73b-f26f-498a-9c1d-e398c7c553dc"
      },
      "outputs": [],
      "source": [
        "#evaluation\n",
        "!python \"/content/transformers/examples/pytorch/translation/run_translation.py\" \\\n",
        "    --model_name_or_path Helsinki-NLP/opus-mt-en-hi \\\n",
        "    --num_train_epochs 5 \\\n",
        "    --source_lang en \\\n",
        "    --target_lang sa \\\n",
        "    --max_source_length 128 \\\n",
        "    --max_target_length 128 \\\n",
        "    --train_file \"/content/data/train_json.json\" \\\n",
        "    --validation_file \"/content/data/eval_json.json\" \\\n",
        "    --test_file \"/content/data/test_json.json\" \\\n",
        "    --output_dir \"./chkpt\" \\\n",
        "    --per_device_train_batch_size=64 \\\n",
        "    --per_device_eval_batch_size=64 \\\n",
        "    --overwrite_output_dir \\\n",
        "    --predict_with_generate \\\n",
        "    --do_eval \\\n",
        "    --evaluation_strategy epoch \\\n",
        "    --seed 108 \\\n",
        "    --metric_for_best_model bleu \\"
      ]
    },
    {
      "cell_type": "code",
      "execution_count": null,
      "metadata": {
        "colab": {
          "base_uri": "https://localhost:8080/"
        },
        "id": "BvzJR4mpZoRk",
        "outputId": "30e663f8-4d62-4b0f-fe84-73c885b96393"
      },
      "outputs": [],
      "source": [
        "#Training\n",
        "!python \"/content/transformers/examples/pytorch/translation/run_translation.py\" \\\n",
        "    --model_name_or_path Helsinki-NLP/opus-mt-en-hi \\\n",
        "    --do_train \\\n",
        "    --num_train_epochs 5 \\\n",
        "    --source_lang en \\\n",
        "    --target_lang sa \\\n",
        "    --max_source_length 128 \\\n",
        "    --max_target_length 128 \\\n",
        "    --train_file \"/content/data/train_json.json\" \\\n",
        "    --validation_file \"/content/data/eval_json.json\" \\\n",
        "    --test_file \"/content/data/test_json.json\" \\\n",
        "    --output_dir \"./chkpt\" \\\n",
        "    --per_device_train_batch_size=32 \\\n",
        "    --per_device_eval_batch_size=32 \\\n",
        "    --overwrite_output_dir \\\n",
        "    --predict_with_generate \\\n",
        "    --do_eval \\\n",
        "    --evaluation_strategy epoch \\\n",
        "    --seed 108 \\\n",
        "    --metric_for_best_model bleu \\"
      ]
    },
    {
      "cell_type": "code",
      "execution_count": null,
      "metadata": {
        "colab": {
          "base_uri": "https://localhost:8080/",
          "height": 384
        },
        "id": "cAb7Zi0cyMTu",
        "outputId": "5714e67f-be92-4832-cd7e-9df4f4f275b4"
      },
      "outputs": [],
      "source": [
        "# Loading from checkpoint\n",
        "from transformers import MarianMTModel, MarianTokenizer\n",
        "from typing import List\n",
        "\n",
        "src = 'en'  # source language\n",
        "trg = 'sa'  # target language\n",
        "model_name = f'/content/chkpt'\n",
        "\n",
        "model = MarianMTModel.from_pretrained(model_name)\n",
        "tokenizer = MarianTokenizer.from_pretrained(model_name)"
      ]
    },
    {
      "cell_type": "code",
      "execution_count": null,
      "metadata": {
        "colab": {
          "base_uri": "https://localhost:8080/"
        },
        "id": "eFq5m9lWKIgb",
        "outputId": "2f6ce376-28e4-4f6b-f1b2-aafb2b073a54"
      },
      "outputs": [],
      "source": [
        "test_src[:5], test_tgt[:5]"
      ]
    },
    {
      "cell_type": "code",
      "execution_count": null,
      "metadata": {
        "colab": {
          "base_uri": "https://localhost:8080/"
        },
        "id": "bmcBffTIwoLK",
        "outputId": "1ed8073a-39ab-45bd-a80e-0fd147ca121d"
      },
      "outputs": [],
      "source": [
        "# Testing\n",
        "sample_text = \"A beautiful day it is.\"\n",
        "batch = tokenizer([sample_text], return_tensors=\"pt\")\n",
        "gen = model.generate(**batch)\n",
        "tokenizer.batch_decode(gen, skip_special_tokens=True)"
      ]
    }
  ],
  "metadata": {
    "accelerator": "GPU",
    "colab": {
      "gpuType": "A100",
      "machine_shape": "hm",
      "provenance": []
    },
    "kernelspec": {
      "display_name": "Python 3",
      "name": "python3"
    },
    "language_info": {
      "codemirror_mode": {
        "name": "ipython",
        "version": 3
      },
      "file_extension": ".py",
      "mimetype": "text/x-python",
      "name": "python",
      "nbconvert_exporter": "python",
      "pygments_lexer": "ipython3",
      "version": "3.9.6"
    }
  },
  "nbformat": 4,
  "nbformat_minor": 0
}
